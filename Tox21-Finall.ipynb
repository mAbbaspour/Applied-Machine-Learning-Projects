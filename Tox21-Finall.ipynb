{
 "cells": [
  {
   "cell_type": "code",
   "execution_count": 62,
   "id": "0ab6c640",
   "metadata": {},
   "outputs": [],
   "source": [
    "import csv\n",
    "import sklearn\n",
    "import math\n",
    "from pandas import read_csv\n",
    "from sklearn.impute import SimpleImputer\n",
    "import numpy as np\n",
    "from sklearn.feature_selection import SelectKBest\n",
    "from sklearn.neighbors import KNeighborsRegressor\n",
    "from sklearn.neighbors import KNeighborsClassifier\n",
    "from sklearn.feature_selection import chi2\n",
    "from sklearn.model_selection import KFold\n",
    "from sklearn.model_selection import cross_val_score\n",
    "from sklearn.ensemble import RandomForestClassifier\n",
    "from sklearn.linear_model import LogisticRegression\n",
    "from sklearn import svm\n",
    "from sklearn.svm import SVC\n",
    "from sklearn.model_selection import GridSearchCV\n",
    "from sklearn.metrics import accuracy_score\n",
    "from sklearn.ensemble import AdaBoostClassifier\n",
    "from sklearn.ensemble import AdaBoostRegressor\n",
    "from sklearn.datasets import make_regression\n",
    "from sklearn.model_selection import train_test_split\n",
    "from sklearn.datasets import load_boston\n",
    "from sklearn.metrics import mean_squared_error\n",
    "from sklearn.model_selection import StratifiedKFold\n",
    "from sklearn.metrics import confusion_matrix\n",
    "from sklearn.metrics import average_precision_score\n",
    "from sklearn.metrics import roc_auc_score\n",
    "from sklearn.feature_selection import mutual_info_classif\n",
    "from sklearn.tree import DecisionTreeClassifier\n",
    "from sklearn.neural_network import MLPClassifier\n",
    "from sklearn.ensemble import AdaBoostClassifier\n",
    "from sklearn.ensemble import GradientBoostingClassifier\n",
    "from sklearn.ensemble import BaggingClassifier\n",
    "import matplotlib.pyplot as plt\n",
    "from sklearn.model_selection import learning_curve\n",
    "from mlxtend.plotting import plot_learning_curves\n",
    "\n",
    "\n",
    "fileY=open(r\"D:\\فایل درسی\\term1\\machin learning\\project\\Tox21.csv\")\n",
    "dataYY=csv.reader(fileY)\n",
    "headerY=next(dataYY)\n",
    "fileX=open(r\"D:\\فایل درسی\\term1\\machin learning\\project\\Tox21_global_cdf_rdkit.csv\")\n",
    "dataXX=csv.reader(fileX)\n",
    "headerX=next(dataXX)\n",
    "#print(headerY)\n",
    "#print(headerX)"
   ]
  },
  {
   "cell_type": "code",
   "execution_count": 2,
   "id": "58fee8b3",
   "metadata": {},
   "outputs": [
    {
     "name": "stdout",
     "output_type": "stream",
     "text": [
      "(7832, 201)\n",
      "(7832, 13)\n"
     ]
    },
    {
     "name": "stderr",
     "output_type": "stream",
     "text": [
      "C:\\Users\\Lenovo\\anaconda3\\lib\\site-packages\\IPython\\core\\interactiveshell.py:3444: DtypeWarning: Columns (0,1,2,3,4,5,6,7,8,9,10,11,12,13,14,15,16,17,18,19,20,21,22,23,24,25,26,27,28,29,30,31,32,33,34,35,36,37,38,39,40,41,42,43,44,45,46,47,48,49,50,51,52,53,54,55,56,57,58,59,60,61,62,63,64,65,66,67,68,69,70,71,72,73,74,75,76,77,78,79,80,81,82,83,84,85,86,87,88,89,90,91,92,93,94,95,96,97,98,99,100,101,102,103,104,105,106,107,108,109,110,111,112,113,114,115,116,117,118,119,120,121,122,123,124,125,126,127,128,129,130,131,132,133,134,135,136,137,138,139,140,141,142,143,144,145,146,147,148,149,150,151,152,153,154,155,156,157,158,159,160,161,162,163,164,165,166,167,168,169,170,171,172,173,174,175,176,177,178,179,180,181,182,183,184,185,186,187,188,189,190,191,192,193,194,195,196,197,198,199,200) have mixed types.Specify dtype option on import or set low_memory=False.\n",
      "  exec(code_obj, self.user_global_ns, self.user_ns)\n"
     ]
    }
   ],
   "source": [
    "path = r\"D:\\فایل درسی\\term1\\machin learning\\project\\Tox21.csv\"\n",
    "dataY = read_csv(path, names = headerY)\n",
    "#print(data.head())\n",
    "array = dataY.values\n",
    "Y = array[1:,2]\n",
    "#print(Y)\n",
    "pathX = r\"D:\\فایل درسی\\term1\\machin learning\\project\\Tox21_global_cdf_rdkit.csv\"\n",
    "#print(len(headernamesX))\n",
    "dataX = read_csv(pathX , names=headerX)\n",
    "arrayX = dataX.values\n",
    "X = arrayX[1:,]\n",
    "X = np.delete(X, 0, axis=1)\n",
    "#print(X[73])\n",
    "#print(len(X))\n",
    "print(dataX.shape)\n",
    "print(dataY.shape)"
   ]
  },
  {
   "cell_type": "code",
   "execution_count": 3,
   "id": "0e6b4237",
   "metadata": {},
   "outputs": [
    {
     "name": "stdout",
     "output_type": "stream",
     "text": [
      "96\n"
     ]
    }
   ],
   "source": [
    "#tedad nan ha dar Y ra shemordim\n",
    "k=0\n",
    "for i in range(len(Y)):\n",
    "    if math.isnan(float(Y[i])):\n",
    "        k+=1\n",
    "print (k)"
   ]
  },
  {
   "cell_type": "code",
   "execution_count": 4,
   "id": "2fa1dc09",
   "metadata": {},
   "outputs": [
    {
     "name": "stdout",
     "output_type": "stream",
     "text": [
      "(7735, 200)\n",
      "(7735,)\n"
     ]
    }
   ],
   "source": [
    "#satr va soton haye marbot b dade Y ra az y va x motenazer on ra hazf kardim\n",
    "NanIndexArray = []\n",
    "\n",
    "for i in range(len(Y)):\n",
    "        if math.isnan(float(Y[i])):\n",
    "            if i not in NanIndexArray:\n",
    "                NanIndexArray.append(i)\n",
    "            \n",
    "k=0\n",
    "for i in NanIndexArray:\n",
    "    X = np.delete(X, i-k, axis=0)\n",
    "    Y = np.delete(Y, i-k, axis=0)\n",
    "    k+=1\n",
    "print(X.shape)\n",
    "print(Y.shape)"
   ]
  },
  {
   "cell_type": "code",
   "execution_count": 5,
   "id": "21b866fc",
   "metadata": {},
   "outputs": [
    {
     "name": "stdout",
     "output_type": "stream",
     "text": [
      "400\n"
     ]
    }
   ],
   "source": [
    "#tedad nan haye dade X ra mishomarym\n",
    "k=0\n",
    "for i in range(len(X)):\n",
    "    for j in range ( 0 , 200):\n",
    "        if math.isnan(float(X[i][j])):\n",
    "            #print(i)\n",
    "            #print (j)\n",
    "            k+=1\n",
    "print (k)"
   ]
  },
  {
   "cell_type": "code",
   "execution_count": 6,
   "id": "17916a8e",
   "metadata": {},
   "outputs": [],
   "source": [
    "#maghadir nan ra dar dade X b ravesh miyangin por kardim\n",
    "imputer = SimpleImputer(missing_values=np.nan, strategy= 'mean')\n",
    "imputer = imputer.fit(X)\n",
    "X = imputer.transform(X)"
   ]
  },
  {
   "cell_type": "code",
   "execution_count": 7,
   "id": "e76cf5d1",
   "metadata": {},
   "outputs": [
    {
     "name": "stdout",
     "output_type": "stream",
     "text": [
      "(7735, 200)\n",
      "(7735,)\n"
     ]
    }
   ],
   "source": [
    "print(X.shape)\n",
    "print(Y.shape)"
   ]
  },
  {
   "cell_type": "code",
   "execution_count": 8,
   "id": "d56bd663",
   "metadata": {},
   "outputs": [],
   "source": [
    "#az dastor zir baraye feature selection estefade kardim ama deghat b meghdar ghabel tavajohi kam shod banabari az feature selection digari estefade kardim \n",
    "# test = SelectKBest(score_func=chi2, k=150)\n",
    "# fit = test.fit(X, Y)\n",
    "# X = fit.transform(X)"
   ]
  },
  {
   "cell_type": "code",
   "execution_count": 81,
   "id": "324afb0d",
   "metadata": {
    "scrolled": false
   },
   "outputs": [
    {
     "name": "stdout",
     "output_type": "stream",
     "text": [
      "(6188, 200)\n",
      "(6188,)\n",
      "(1547, 200)\n",
      "(1547,)\n"
     ]
    }
   ],
   "source": [
    "#spliting the data train and test\n",
    "skf = StratifiedKFold(n_splits=5)\n",
    "skf.get_n_splits(X, Y)\n",
    "StratifiedKFold(n_splits=5, random_state=None, shuffle=False)\n",
    "for train_index, test_index in skf.split(X, Y):\n",
    "    X_train, X_test = X[train_index], X[test_index]\n",
    "    Y_train, Y_test = Y[train_index], Y[test_index]\n",
    "#X_train, X_test, Y_train, Y_test = train_test_split(X, Y, test_size=0.2)\n",
    "    \n",
    "print(X_train.shape)\n",
    "print(Y_train.shape)\n",
    "print(X_test.shape)\n",
    "print(Y_test.shape)"
   ]
  },
  {
   "cell_type": "code",
   "execution_count": 82,
   "id": "acc53735",
   "metadata": {},
   "outputs": [],
   "source": [
    "#feature selection\n",
    "test = SelectKBest(score_func = mutual_info_classif, k=70)\n",
    "test.fit(X_train, Y_train) \n",
    "X_train = test.transform(X_train)\n",
    "X_test = test.transform(X_test)"
   ]
  },
  {
   "cell_type": "code",
   "execution_count": 40,
   "id": "0f4682ab",
   "metadata": {
    "scrolled": true
   },
   "outputs": [
    {
     "name": "stdout",
     "output_type": "stream",
     "text": [
      "[0.59852006 0.63774462 0.66845646 0.65705033 0.6467193 ]\n",
      "0.6416981534587497\n",
      "0.6673486845147271\n"
     ]
    }
   ],
   "source": [
    "#decision tree model\n",
    "dictre = DecisionTreeClassifier(splitter='best')\n",
    "a = StratifiedKFold(n_splits=5, random_state=None, shuffle=False)\n",
    "\n",
    "results = cross_val_score(dictre, X_train ,Y_train, scoring='roc_auc' , cv=a)\n",
    "print(results)\n",
    "print(results.mean())\n",
    "#rint(results.max())\n",
    "\n",
    "dictre.fit(X_train,Y_train)\n",
    "Y_prdict = dictre.predict(X_test)\n",
    "results = sklearn.metrics.roc_auc_score(Y_test,Y_prdict,sample_weight=None, max_fpr=None)\n",
    "print (results)"
   ]
  },
  {
   "cell_type": "code",
   "execution_count": null,
   "id": "e5e8eca6",
   "metadata": {},
   "outputs": [],
   "source": [
    "plot_learning_curves(X_train, Y_train ,X_test ,Y_test , dictre)"
   ]
  },
  {
   "cell_type": "code",
   "execution_count": 62,
   "id": "913210f9",
   "metadata": {},
   "outputs": [
    {
     "data": {
      "text/plain": [
       "{'max_depth': 15, 'max_features': 'log2', 'n_estimators': 100}"
      ]
     },
     "execution_count": 62,
     "metadata": {},
     "output_type": "execute_result"
    }
   ],
   "source": [
    "param_grid = {'n_estimators': [10, 100, 1000, 1000], \n",
    "\n",
    "              'max_depth': [5, 10, 15, 20],\n",
    "\n",
    "              'max_features': ['auto', 'sqrt','log2']} \n",
    " \n",
    "grid = GridSearchCV(RandomForestClassifier() , param_grid)\n",
    "\n",
    "grid.fit(X_train, Y_train)\n",
    "grid.best_params_"
   ]
  },
  {
   "cell_type": "code",
   "execution_count": 50,
   "id": "92cd1c27",
   "metadata": {},
   "outputs": [
    {
     "name": "stdout",
     "output_type": "stream",
     "text": [
      "[0.80847622 0.82648988 0.76193576 0.72195315 0.80865967]\n",
      "0.7855029338897792\n",
      "0.6334802536205356\n"
     ]
    }
   ],
   "source": [
    "#random forrest\n",
    "num_trees=10\n",
    "forest = RandomForestClassifier (n_estimators = num_trees ,max_depth= 15 , max_features = 'log2')\n",
    "results = cross_val_score(forest, X_train ,Y_train , scoring='roc_auc', cv=5)\n",
    "print(results)\n",
    "print(results.mean())\n",
    "\n",
    "forest.fit(X_train,Y_train)\n",
    "Y_prdict = forest.predict(X_test)\n",
    "results = sklearn.metrics.roc_auc_score(Y_test,Y_prdict,sample_weight=None, max_fpr=None)\n",
    "print (results)"
   ]
  },
  {
   "cell_type": "markdown",
   "id": "5e355901",
   "metadata": {},
   "source": [
    "overfitting problem:Dar inja chon 63% < 78%."
   ]
  },
  {
   "cell_type": "code",
   "execution_count": null,
   "id": "f85cb533",
   "metadata": {},
   "outputs": [],
   "source": [
    "plot_learning_curves(X_train, Y_train ,X_test ,Y_test , forest)"
   ]
  },
  {
   "cell_type": "code",
   "execution_count": 21,
   "id": "1c794256",
   "metadata": {},
   "outputs": [
    {
     "name": "stdout",
     "output_type": "stream",
     "text": [
      "[0.66472603 0.73938356 0.75518591 0.75344912 0.74376223 0.84718689\n",
      " 0.72793542 0.7505137  0.83303112 0.69600588]\n",
      "0.7511179857877971\n",
      "0.642244065050782\n"
     ]
    }
   ],
   "source": [
    "# bagging\n",
    "num_trees = 10\n",
    "bagging = BaggingClassifier( n_estimators=num_trees)\n",
    "a = StratifiedKFold(n_splits=10, random_state=None, shuffle=False)\n",
    "results = cross_val_score(bagging, X_train ,Y_train , scoring='roc_auc', cv=a)\n",
    "print(results)\n",
    "print(results.mean())\n",
    "\n",
    "bagging.fit(X_train,Y_train)\n",
    "Y_prdict = bagging.predict(X_test)\n",
    "results = sklearn.metrics.roc_auc_score(Y_test,Y_prdict,sample_weight=None, max_fpr=None)\n",
    "print (results)"
   ]
  },
  {
   "cell_type": "markdown",
   "id": "16597d44",
   "metadata": {},
   "source": [
    "overfitting problem:Dar inja chon 64% < 75%."
   ]
  },
  {
   "cell_type": "code",
   "execution_count": null,
   "id": "397c3bd5",
   "metadata": {},
   "outputs": [],
   "source": [
    "plot_learning_curves(X_train, Y_train ,X_test ,Y_test , bagging)"
   ]
  },
  {
   "cell_type": "code",
   "execution_count": 33,
   "id": "12c5ce3c",
   "metadata": {},
   "outputs": [
    {
     "name": "stdout",
     "output_type": "stream",
     "text": [
      "[0.77392368 0.78062622 0.76815068 0.83351272 0.74899706 0.89373777\n",
      " 0.80772994 0.83060176 0.84150943 0.79735359]\n",
      "0.807614286721291\n",
      "0.6041848401769581\n"
     ]
    }
   ],
   "source": [
    "#Boosting model\n",
    "model= GradientBoostingClassifier(n_estimators=10, learning_rate=0.2, max_depth=2)\n",
    "a = StratifiedKFold(n_splits=10, random_state=None, shuffle=False)\n",
    "results = cross_val_score(model, X_train ,Y_train , scoring='roc_auc', cv=a)\n",
    "print(results)\n",
    "print(results.mean())\n",
    "\n",
    "boosting=model.fit(X_train,Y_train)\n",
    "Y_pred = model.predict(X_test)\n",
    "results = sklearn.metrics.roc_auc_score(Y_test,Y_pred,sample_weight=None, max_fpr=None)\n",
    "print (results)"
   ]
  },
  {
   "cell_type": "markdown",
   "id": "a0d51aa3",
   "metadata": {},
   "source": [
    "overfitting problem:Dar inja chon 60% < 80%."
   ]
  },
  {
   "cell_type": "code",
   "execution_count": null,
   "id": "61a47669",
   "metadata": {},
   "outputs": [],
   "source": [
    "plot_learning_curves(X_train, Y_train ,X_test ,Y_test , model)"
   ]
  },
  {
   "cell_type": "code",
   "execution_count": 34,
   "id": "7fc086bd",
   "metadata": {},
   "outputs": [
    {
     "name": "stdout",
     "output_type": "stream",
     "text": [
      "[0.7824364  0.81386986 0.8077544  0.80462329 0.73498043 0.787818\n",
      " 0.79185421 0.77808219 0.83856898 0.75518255]\n",
      "0.7895170318180139\n",
      "0.6198594928032899\n"
     ]
    }
   ],
   "source": [
    "#adaboost model\n",
    "model =  AdaBoostClassifier(n_estimators=50,learning_rate=1)\n",
    "a = StratifiedKFold(n_splits=10, random_state=None, shuffle=False)\n",
    "results = cross_val_score(model, X_train ,Y_train , scoring='roc_auc', cv=a)\n",
    "print(results)\n",
    "print(results.mean())\n",
    "\n",
    "model.fit(X_train,Y_train)\n",
    "Y_pred = model.predict(X_test)\n",
    "results = sklearn.metrics.roc_auc_score(Y_test,Y_pred,sample_weight=None, max_fpr=None)\n",
    "print (results)"
   ]
  },
  {
   "cell_type": "markdown",
   "id": "666dfb3d",
   "metadata": {},
   "source": [
    "overfitting problem:Dar inja chon 61% < 78%."
   ]
  },
  {
   "cell_type": "code",
   "execution_count": null,
   "id": "b1a05d6b",
   "metadata": {},
   "outputs": [],
   "source": [
    "plot_learning_curves(X_train, Y_train ,X_test ,Y_test , model)"
   ]
  },
  {
   "cell_type": "code",
   "execution_count": 36,
   "id": "9876fb19",
   "metadata": {
    "scrolled": false
   },
   "outputs": [
    {
     "name": "stdout",
     "output_type": "stream",
     "text": [
      "Fitting 10 folds for each of 49 candidates, totalling 490 fits\n",
      "{'n_neighbors': 31}\n"
     ]
    }
   ],
   "source": [
    "#KNN\n",
    "#entekhabe behtarin k\n",
    "knn = KNeighborsClassifier()\n",
    "from sklearn.model_selection import GridSearchCV\n",
    "k_range = list(range(1, 50))\n",
    "param_grid = dict(n_neighbors=k_range)\n",
    "  \n",
    "# defining parameter range\n",
    "grid = GridSearchCV(knn, param_grid, cv=10, scoring='roc_auc', return_train_score=False,verbose=1)\n",
    "#print(grid)\n",
    "# fitting the model for grid search\n",
    "grid_search=grid.fit(X_train, Y_train)\n",
    "print(grid_search.best_params_)\n",
    "\n"
   ]
  },
  {
   "cell_type": "code",
   "execution_count": 79,
   "id": "fd5984a8",
   "metadata": {},
   "outputs": [
    {
     "name": "stdout",
     "output_type": "stream",
     "text": [
      "[0.80887965 0.83248532 0.79072896 0.82086595 0.73992172 0.85413405\n",
      " 0.8042319  0.85988258 0.82403823 0.75753492]\n",
      "0.8092703280823595\n",
      "0.6375903483083059\n"
     ]
    }
   ],
   "source": [
    "knn= KNeighborsClassifier(n_neighbors=31 ,metric='minkowski', p=2)\n",
    "a = StratifiedKFold(n_splits=10, random_state=None, shuffle=False)\n",
    "results = cross_val_score(knn, X_train ,Y_train , scoring='roc_auc', cv=a)\n",
    "print(results)\n",
    "print(results.mean())\n",
    "\n",
    "knn=knn.fit(X_train, Y_train) \n",
    "predicted = knn.predict(X_test)\n",
    "#print(\"Predictions from the classifier:\")\n",
    "#print(predicted)\n",
    "#print(\"Target values:\")\n",
    "#print(test_Y)\n",
    "#from sklearn.metrics import accuracy_score\n",
    "results = sklearn.metrics.roc_auc_score(Y_test,predicted,sample_weight=None, max_fpr=None)\n",
    "print (results)"
   ]
  },
  {
   "cell_type": "markdown",
   "id": "bac7398a",
   "metadata": {},
   "source": [
    "overfitting problem:Dar inja chon 63% < 80%."
   ]
  },
  {
   "cell_type": "code",
   "execution_count": null,
   "id": "0b019947",
   "metadata": {},
   "outputs": [],
   "source": [
    "plot_learning_curves(X_train, Y_train ,X_test ,Y_test , knn)"
   ]
  },
  {
   "cell_type": "code",
   "execution_count": 60,
   "id": "ffaf6e1f",
   "metadata": {},
   "outputs": [
    {
     "name": "stdout",
     "output_type": "stream",
     "text": [
      "[0.66761252 0.75858611 0.74349315 0.73977495 0.69182975 0.78992172\n",
      " 0.73302348 0.77646771 0.80813526 0.66941926]\n",
      "0.7378263914297127\n",
      "0.5\n"
     ]
    }
   ],
   "source": [
    "#logestic regression model\n",
    "logreg = LogisticRegression(solver='lbfgs', max_iter=1000)\n",
    "a = StratifiedKFold(n_splits=10, random_state=None, shuffle=False)\n",
    "results = cross_val_score(logreg, X_train ,Y_train , scoring='roc_auc', cv=a)\n",
    "print(results)\n",
    "print(results.mean())\n",
    "\n",
    "logreggg = logreg.fit(X_train, Y_train)\n",
    "Y_prdict = logreggg.predict(X_test)\n",
    "results = sklearn.metrics.roc_auc_score(Y_test,Y_prdict,sample_weight=None, max_fpr=None)\n",
    "print (results)"
   ]
  },
  {
   "cell_type": "markdown",
   "id": "de75cc98",
   "metadata": {},
   "source": [
    "overfitting problem:Dar inja chon 50% < 73%."
   ]
  },
  {
   "cell_type": "code",
   "execution_count": null,
   "id": "3d51340c",
   "metadata": {},
   "outputs": [],
   "source": [
    "plot_learning_curves(X_train, Y_train ,X_test ,Y_test , logreg)"
   ]
  },
  {
   "cell_type": "code",
   "execution_count": 18,
   "id": "b3701452",
   "metadata": {},
   "outputs": [
    {
     "name": "stdout",
     "output_type": "stream",
     "text": [
      "0.5\n"
     ]
    }
   ],
   "source": [
    "#SVM\n",
    "param_grid = {'C': [0.1, 1, 10, 100, 1000], \n",
    "\n",
    "              'gamma': [1, 0.1, 0.01, 0.001, 0.0001],\n",
    "\n",
    "              'kernel': ['rbf']} \n",
    " \n",
    "st = svm.SVC(kernel='rbf')\n",
    "grid = GridSearchCV(st , param_grid)\n",
    "grid.fit(X, Y)\n",
    "grid.best_params_"
   ]
  },
  {
   "cell_type": "code",
   "execution_count": 65,
   "id": "66abd3c6",
   "metadata": {},
   "outputs": [
    {
     "name": "stdout",
     "output_type": "stream",
     "text": [
      "[0.53747554 0.52018102 0.53028376 0.51565558 0.57431507 0.58116438\n",
      " 0.43537182 0.5140411  0.50164175 0.64506248]\n",
      "0.5355192497474095\n",
      "0.5\n"
     ]
    }
   ],
   "source": [
    "svc = SVC(C = 10, gamma = 0.001, kernel = \"rbf\")\n",
    "a = StratifiedKFold(n_splits=10, random_state=None, shuffle=False)\n",
    "results = cross_val_score(svc, X_train ,Y_train , scoring='roc_auc', cv=a)\n",
    "print(results)\n",
    "print(results.mean())\n",
    "\n",
    "svc.fit(X_train,Y_train)\n",
    "grid_predictions = svc.predict(X_test)\n",
    "results = sklearn.metrics.roc_auc_score(Y_test,grid_predictions,sample_weight=None, max_fpr=None)\n",
    "print (results)"
   ]
  },
  {
   "cell_type": "code",
   "execution_count": null,
   "id": "3819805d",
   "metadata": {},
   "outputs": [],
   "source": [
    "plot_learning_curves(X_train, Y_train ,X_test ,Y_test , svc)"
   ]
  },
  {
   "cell_type": "code",
   "execution_count": 63,
   "id": "3b4f3334",
   "metadata": {},
   "outputs": [
    {
     "name": "stdout",
     "output_type": "stream",
     "text": [
      "[0.80469667 0.83285225 0.75655577 0.79623288 0.72123288 0.81536204\n",
      " 0.75332681 0.81267123 0.83391326 0.77424651]\n",
      "0.7901090293139272\n",
      "0.572150133964733\n"
     ]
    },
    {
     "name": "stderr",
     "output_type": "stream",
     "text": [
      "C:\\Users\\Lenovo\\anaconda3\\lib\\site-packages\\sklearn\\utils\\validation.py:63: FutureWarning: Arrays of bytes/strings is being converted to decimal numbers if dtype='numeric'. This behavior is deprecated in 0.24 and will be removed in 1.1 (renaming of 0.26). Please convert your data to numeric values explicitly instead.\n",
      "  return f(*args, **kwargs)\n"
     ]
    }
   ],
   "source": [
    "#NN\n",
    "clf = MLPClassifier(random_state=1, max_iter=1000)\n",
    "a = StratifiedKFold(n_splits=10, random_state=None, shuffle=False)\n",
    "results = cross_val_score(clf, X_train ,Y_train , scoring='roc_auc', cv=a)\n",
    "print(results)\n",
    "print(results.mean())\n",
    "\n",
    "clf.fit(X_train,Y_train)\n",
    "grid_predictions = clf.predict(X_test)\n",
    "results = sklearn.metrics.roc_auc_score(Y_test,grid_predictions,sample_weight=None, max_fpr=None)\n",
    "print (results)"
   ]
  },
  {
   "cell_type": "markdown",
   "id": "9aaa650e",
   "metadata": {},
   "source": [
    "overfitting problem:Dar inja chon 57% < 79%."
   ]
  },
  {
   "cell_type": "code",
   "execution_count": null,
   "id": "8c0dfec9",
   "metadata": {},
   "outputs": [],
   "source": [
    "plot_learning_curves(X_train, Y_train ,X_test ,Y_test , clf)"
   ]
  }
 ],
 "metadata": {
  "kernelspec": {
   "display_name": "Python 3",
   "language": "python",
   "name": "python3"
  },
  "language_info": {
   "codemirror_mode": {
    "name": "ipython",
    "version": 3
   },
   "file_extension": ".py",
   "mimetype": "text/x-python",
   "name": "python",
   "nbconvert_exporter": "python",
   "pygments_lexer": "ipython3",
   "version": "3.8.8"
  }
 },
 "nbformat": 4,
 "nbformat_minor": 5
}
