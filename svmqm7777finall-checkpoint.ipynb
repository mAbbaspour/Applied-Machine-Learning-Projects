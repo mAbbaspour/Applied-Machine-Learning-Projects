{
 "cells": [
  {
   "cell_type": "code",
   "execution_count": 3,
   "id": "e04a1bf3",
   "metadata": {
    "scrolled": true
   },
   "outputs": [
    {
     "name": "stdout",
     "output_type": "stream",
     "text": [
      "['-417.96' '-712.42' '-564.21' ... '-1662.1' '-1782.01' '-1919']\n",
      "6830\n"
     ]
    }
   ],
   "source": [
    "from sklearn.feature_selection import SelectKBest\n",
    "from sklearn.neighbors import KNeighborsRegressor\n",
    "from sklearn.neighbors import KNeighborsClassifier\n",
    "from sklearn.feature_selection import chi2\n",
    "import numpy as np\n",
    "from pandas import read_csv\n",
    "from sklearn.model_selection import KFold\n",
    "from sklearn.model_selection import cross_val_score\n",
    "from sklearn.ensemble import RandomForestClassifier\n",
    "import sklearn \n",
    "from sklearn import svm\n",
    "from sklearn.svm import SVC\n",
    "from sklearn.model_selection import GridSearchCV\n",
    "from sklearn.metrics import accuracy_score\n",
    "from sklearn.model_selection import train_test_split\n",
    "import csv\n",
    "import sklearn\n",
    "from sklearn.model_selection import KFold\n",
    "path = r\"C:\\\\Users\\\\ahmad\\\\Desktop\\\\QM7 (2).csv\"\n",
    "headerY = ['smiles', 'u0_atom']\n",
    "\n",
    "data = read_csv(path, names=headerY)\n",
    "array = data.values\n",
    "Y = array[1:,1]\n",
    "print(Y)\n",
    "pathX = r\"C:\\\\Users\\\\ahmad\\\\Desktop\\\\qm7_global_cdf_rdkit.csv\"\n",
    "headerX = [\"('RDKit2DNormalized_calculated', <class 'bool'>)\", \"('BalabanJ', <class 'numpy.float64'>)\", \"('BertzCT', <class 'numpy.float64'>)\", \"('Chi0', <class 'numpy.float64'>)\", \"('Chi0n', <class 'numpy.float64'>)\", \"('Chi0v', <class 'numpy.float64'>)\", \"('Chi1', <class 'numpy.float64'>)\", \"('Chi1n', <class 'numpy.float64'>)\", \"('Chi1v', <class 'numpy.float64'>)\", \"('Chi2n', <class 'numpy.float64'>)\", \"('Chi2v', <class 'numpy.float64'>)\", \"('Chi3n', <class 'numpy.float64'>)\", \"('Chi3v', <class 'numpy.float64'>)\", \"('Chi4n', <class 'numpy.float64'>)\", \"('Chi4v', <class 'numpy.float64'>)\", \"('EState_VSA1', <class 'numpy.float64'>)\", \"('EState_VSA10', <class 'numpy.float64'>)\", \"('EState_VSA11', <class 'numpy.float64'>)\", \"('EState_VSA2', <class 'numpy.float64'>)\", \"('EState_VSA3', <class 'numpy.float64'>)\", \"('EState_VSA4', <class 'numpy.float64'>)\", \"('EState_VSA5', <class 'numpy.float64'>)\", \"('EState_VSA6', <class 'numpy.float64'>)\", \"('EState_VSA7', <class 'numpy.float64'>)\", \"('EState_VSA8', <class 'numpy.float64'>)\", \"('EState_VSA9', <class 'numpy.float64'>)\", \"('ExactMolWt', <class 'numpy.float64'>)\", \"('FpDensityMorgan1', <class 'numpy.float64'>)\", \"('FpDensityMorgan2', <class 'numpy.float64'>)\", \"('FpDensityMorgan3', <class 'numpy.float64'>)\", \"('FractionCSP3', <class 'numpy.float64'>)\", \"('HallKierAlpha', <class 'numpy.float64'>)\", \"('HeavyAtomCount', <class 'numpy.float64'>)\", \"('HeavyAtomMolWt', <class 'numpy.float64'>)\", \"('Ipc', <class 'numpy.float64'>)\", \"('Kappa1', <class 'numpy.float64'>)\", \"('Kappa2', <class 'numpy.float64'>)\", \"('Kappa3', <class 'numpy.float64'>)\", \"('LabuteASA', <class 'numpy.float64'>)\", \"('MaxAbsEStateIndex', <class 'numpy.float64'>)\", \"('MaxAbsPartialCharge', <class 'numpy.float64'>)\", \"('MaxEStateIndex', <class 'numpy.float64'>)\", \"('MaxPartialCharge', <class 'numpy.float64'>)\", \"('MinAbsEStateIndex', <class 'numpy.float64'>)\", \"('MinAbsPartialCharge', <class 'numpy.float64'>)\", \"('MinEStateIndex', <class 'numpy.float64'>)\", \"('MinPartialCharge', <class 'numpy.float64'>)\", \"('MolLogP', <class 'numpy.float64'>)\", \"('MolMR', <class 'numpy.float64'>)\", \"('MolWt', <class 'numpy.float64'>)\", \"('NHOHCount', <class 'numpy.float64'>)\", \"('NOCount', <class 'numpy.float64'>)\", \"('NumAliphaticCarbocycles', <class 'numpy.float64'>)\", \"('NumAliphaticHeterocycles', <class 'numpy.float64'>)\", \"('NumAliphaticRings', <class 'numpy.float64'>)\", \"('NumAromaticCarbocycles', <class 'numpy.float64'>)\", \"('NumAromaticHeterocycles', <class 'numpy.float64'>)\", \"('NumAromaticRings', <class 'numpy.float64'>)\", \"('NumHAcceptors', <class 'numpy.float64'>)\", \"('NumHDonors', <class 'numpy.float64'>)\", \"('NumHeteroatoms', <class 'numpy.float64'>)\", \"('NumRadicalElectrons', <class 'numpy.float64'>)\", \"('NumRotatableBonds', <class 'numpy.float64'>)\", \"('NumSaturatedCarbocycles', <class 'numpy.float64'>)\", \"('NumSaturatedHeterocycles', <class 'numpy.float64'>)\", \"('NumSaturatedRings', <class 'numpy.float64'>)\", \"('NumValenceElectrons', <class 'numpy.float64'>)\", \"('PEOE_VSA1', <class 'numpy.float64'>)\", \"('PEOE_VSA10', <class 'numpy.float64'>)\", \"('PEOE_VSA11', <class 'numpy.float64'>)\", \"('PEOE_VSA12', <class 'numpy.float64'>)\", \"('PEOE_VSA13', <class 'numpy.float64'>)\", \"('PEOE_VSA14', <class 'numpy.float64'>)\", \"('PEOE_VSA2', <class 'numpy.float64'>)\", \"('PEOE_VSA3', <class 'numpy.float64'>)\", \"('PEOE_VSA4', <class 'numpy.float64'>)\", \"('PEOE_VSA5', <class 'numpy.float64'>)\", \"('PEOE_VSA6', <class 'numpy.float64'>)\", \"('PEOE_VSA7', <class 'numpy.float64'>)\", \"('PEOE_VSA8', <class 'numpy.float64'>)\", \"('PEOE_VSA9', <class 'numpy.float64'>)\", \"('RingCount', <class 'numpy.float64'>)\", \"('SMR_VSA1', <class 'numpy.float64'>)\", \"('SMR_VSA10', <class 'numpy.float64'>)\", \"('SMR_VSA2', <class 'numpy.float64'>)\", \"('SMR_VSA3', <class 'numpy.float64'>)\", \"('SMR_VSA4', <class 'numpy.float64'>)\", \"('SMR_VSA5', <class 'numpy.float64'>)\", \"('SMR_VSA6', <class 'numpy.float64'>)\", \"('SMR_VSA7', <class 'numpy.float64'>)\", \"('SMR_VSA8', <class 'numpy.float64'>)\", \"('SMR_VSA9', <class 'numpy.float64'>)\", \"('SlogP_VSA1', <class 'numpy.float64'>)\", \"('SlogP_VSA10', <class 'numpy.float64'>)\", \"('SlogP_VSA11', <class 'numpy.float64'>)\", \"('SlogP_VSA12', <class 'numpy.float64'>)\", \"('SlogP_VSA2', <class 'numpy.float64'>)\", \"('SlogP_VSA3', <class 'numpy.float64'>)\", \"('SlogP_VSA4', <class 'numpy.float64'>)\", \"('SlogP_VSA5', <class 'numpy.float64'>)\", \"('SlogP_VSA6', <class 'numpy.float64'>)\", \"('SlogP_VSA7', <class 'numpy.float64'>)\", \"('SlogP_VSA8', <class 'numpy.float64'>)\", \"('SlogP_VSA9', <class 'numpy.float64'>)\", \"('TPSA', <class 'numpy.float64'>)\", \"('VSA_EState1', <class 'numpy.float64'>)\", \"('VSA_EState10', <class 'numpy.float64'>)\", \"('VSA_EState2', <class 'numpy.float64'>)\", \"('VSA_EState3', <class 'numpy.float64'>)\", \"('VSA_EState4', <class 'numpy.float64'>)\", \"('VSA_EState5', <class 'numpy.float64'>)\", \"('VSA_EState6', <class 'numpy.float64'>)\", \"('VSA_EState7', <class 'numpy.float64'>)\", \"('VSA_EState8', <class 'numpy.float64'>)\", \"('VSA_EState9', <class 'numpy.float64'>)\", \"('fr_Al_COO', <class 'numpy.float64'>)\", \"('fr_Al_OH', <class 'numpy.float64'>)\", \"('fr_Al_OH_noTert', <class 'numpy.float64'>)\", \"('fr_ArN', <class 'numpy.float64'>)\", \"('fr_Ar_COO', <class 'numpy.float64'>)\", \"('fr_Ar_N', <class 'numpy.float64'>)\", \"('fr_Ar_NH', <class 'numpy.float64'>)\", \"('fr_Ar_OH', <class 'numpy.float64'>)\", \"('fr_COO', <class 'numpy.float64'>)\", \"('fr_COO2', <class 'numpy.float64'>)\", \"('fr_C_O', <class 'numpy.float64'>)\", \"('fr_C_O_noCOO', <class 'numpy.float64'>)\", \"('fr_C_S', <class 'numpy.float64'>)\", \"('fr_HOCCN', <class 'numpy.float64'>)\", \"('fr_Imine', <class 'numpy.float64'>)\", \"('fr_NH0', <class 'numpy.float64'>)\", \"('fr_NH1', <class 'numpy.float64'>)\", \"('fr_NH2', <class 'numpy.float64'>)\", \"('fr_N_O', <class 'numpy.float64'>)\", \"('fr_Ndealkylation1', <class 'numpy.float64'>)\", \"('fr_Ndealkylation2', <class 'numpy.float64'>)\", \"('fr_Nhpyrrole', <class 'numpy.float64'>)\", \"('fr_SH', <class 'numpy.float64'>)\", \"('fr_aldehyde', <class 'numpy.float64'>)\", \"('fr_alkyl_carbamate', <class 'numpy.float64'>)\", \"('fr_alkyl_halide', <class 'numpy.float64'>)\", \"('fr_allylic_oxid', <class 'numpy.float64'>)\", \"('fr_amide', <class 'numpy.float64'>)\", \"('fr_amidine', <class 'numpy.float64'>)\", \"('fr_aniline', <class 'numpy.float64'>)\", \"('fr_aryl_methyl', <class 'numpy.float64'>)\", \"('fr_azide', <class 'numpy.float64'>)\", \"('fr_azo', <class 'numpy.float64'>)\", \"('fr_barbitur', <class 'numpy.float64'>)\", \"('fr_benzene', <class 'numpy.float64'>)\", \"('fr_benzodiazepine', <class 'numpy.float64'>)\", \"('fr_bicyclic', <class 'numpy.float64'>)\", \"('fr_diazo', <class 'numpy.float64'>)\", \"('fr_dihydropyridine', <class 'numpy.float64'>)\", \"('fr_epoxide', <class 'numpy.float64'>)\", \"('fr_ester', <class 'numpy.float64'>)\", \"('fr_ether', <class 'numpy.float64'>)\", \"('fr_furan', <class 'numpy.float64'>)\", \"('fr_guanido', <class 'numpy.float64'>)\", \"('fr_halogen', <class 'numpy.float64'>)\", \"('fr_hdrzine', <class 'numpy.float64'>)\", \"('fr_hdrzone', <class 'numpy.float64'>)\", \"('fr_imidazole', <class 'numpy.float64'>)\", \"('fr_imide', <class 'numpy.float64'>)\", \"('fr_isocyan', <class 'numpy.float64'>)\", \"('fr_isothiocyan', <class 'numpy.float64'>)\", \"('fr_ketone', <class 'numpy.float64'>)\", \"('fr_ketone_Topliss', <class 'numpy.float64'>)\", \"('fr_lactam', <class 'numpy.float64'>)\", \"('fr_lactone', <class 'numpy.float64'>)\", \"('fr_methoxy', <class 'numpy.float64'>)\", \"('fr_morpholine', <class 'numpy.float64'>)\", \"('fr_nitrile', <class 'numpy.float64'>)\", \"('fr_nitro', <class 'numpy.float64'>)\", \"('fr_nitro_arom', <class 'numpy.float64'>)\", \"('fr_nitro_arom_nonortho', <class 'numpy.float64'>)\", \"('fr_nitroso', <class 'numpy.float64'>)\", \"('fr_oxazole', <class 'numpy.float64'>)\", \"('fr_oxime', <class 'numpy.float64'>)\", \"('fr_para_hydroxylation', <class 'numpy.float64'>)\", \"('fr_phenol', <class 'numpy.float64'>)\", \"('fr_phenol_noOrthoHbond', <class 'numpy.float64'>)\", \"('fr_phos_acid', <class 'numpy.float64'>)\", \"('fr_phos_ester', <class 'numpy.float64'>)\", \"('fr_piperdine', <class 'numpy.float64'>)\", \"('fr_piperzine', <class 'numpy.float64'>)\", \"('fr_priamide', <class 'numpy.float64'>)\", \"('fr_prisulfonamd', <class 'numpy.float64'>)\", \"('fr_pyridine', <class 'numpy.float64'>)\", \"('fr_quatN', <class 'numpy.float64'>)\", \"('fr_sulfide', <class 'numpy.float64'>)\", \"('fr_sulfonamd', <class 'numpy.float64'>)\", \"('fr_sulfone', <class 'numpy.float64'>)\", \"('fr_term_acetylene', <class 'numpy.float64'>)\", \"('fr_tetrazole', <class 'numpy.float64'>)\", \"('fr_thiazole', <class 'numpy.float64'>)\", \"('fr_thiocyan', <class 'numpy.float64'>)\", \"('fr_thiophene', <class 'numpy.float64'>)\", \"('fr_unbrch_alkane', <class 'numpy.float64'>)\", \"('fr_urea', <class 'numpy.float64'>)\", \"('qed', <class 'numpy.float64'>)\"]\n",
    "dataX = read_csv(pathX , names=headerX)\n",
    "arrayX = dataX  .values\n",
    "X = arrayX[1:,1:]\n",
    "# from sklearn.preprocessing import StandardScaler\n",
    "# scaler = preprocessing.StandardScaler()\n",
    "# scaler = StandardScaler()\n",
    "# Y = scaler.fit(Y)\n",
    "\n",
    "\n",
    "\n",
    "print(len(Y))\n",
    "# print(X)"
   ]
  },
  {
   "cell_type": "code",
   "execution_count": 4,
   "id": "cfb92975",
   "metadata": {},
   "outputs": [],
   "source": [
    "Y=Y.reshape(-1, 1)"
   ]
  },
  {
   "cell_type": "code",
   "execution_count": 5,
   "id": "94e842d0",
   "metadata": {},
   "outputs": [],
   "source": [
    "from sklearn.svm import SVR\n",
    "from sklearn.preprocessing import StandardScaler\n",
    "from sklearn import preprocessing\n",
    "# min_max_scaler = preprocessing.MinMaxScaler()\n",
    "# Y = min_max_scaler.fit_transform(Y)\n",
    "scaler = preprocessing.StandardScaler()\n",
    "Y = scaler.fit_transform(Y)"
   ]
  },
  {
   "cell_type": "code",
   "execution_count": 6,
   "id": "bd82e3ad",
   "metadata": {},
   "outputs": [
    {
     "name": "stderr",
     "output_type": "stream",
     "text": [
      "C:\\Users\\ahmad\\anaconda3\\lib\\site-packages\\sklearn\\feature_selection\\_univariate_selection.py:294: RuntimeWarning: invalid value encountered in sqrt\n",
      "  X_norms = np.sqrt(row_norms(X.T, squared=True) -\n",
      "C:\\Users\\ahmad\\anaconda3\\lib\\site-packages\\sklearn\\feature_selection\\_univariate_selection.py:301: RuntimeWarning: divide by zero encountered in true_divide\n",
      "  corr /= X_norms\n",
      "C:\\Users\\ahmad\\anaconda3\\lib\\site-packages\\sklearn\\feature_selection\\_univariate_selection.py:301: RuntimeWarning: invalid value encountered in true_divide\n",
      "  corr /= X_norms\n",
      "C:\\Users\\ahmad\\anaconda3\\lib\\site-packages\\sklearn\\feature_selection\\_univariate_selection.py:306: RuntimeWarning: invalid value encountered in true_divide\n",
      "  F = corr ** 2 / (1 - corr ** 2) * degrees_of_freedom\n"
     ]
    },
    {
     "data": {
      "text/plain": [
       "{'C': 1000, 'gamma': 0.01, 'kernel': 'rbf'}"
      ]
     },
     "execution_count": 6,
     "metadata": {},
     "output_type": "execute_result"
    }
   ],
   "source": [
    "from sklearn.svm import SVR\n",
    "from sklearn.preprocessing import StandardScaler\n",
    "from sklearn import preprocessing\n",
    "from sklearn.datasets import make_regression\n",
    "import sklearn.feature_selection\n",
    "from sklearn.feature_selection import f_regression\n",
    "Y=Y.reshape(6830,)\n",
    "# X, Y= make_regression(n_samples=6830, n_features=100, n_informative=10, noise=0.1, random_state=1)\n",
    "X_train, X_test, Y_train, Y_test = train_test_split(X, Y, test_size=0.2)\n",
    "\n",
    "fs = SelectKBest(score_func=f_regression, k=100)\n",
    "\n",
    "fs.fit(X_train,Y_train)\n",
    "\n",
    "X_train = fs.transform(X_train)\n",
    "\n",
    "X_test = fs.transform(X_test)\n",
    "\n",
    "# fit =  test.fit(X, Y)\n",
    "# test = SelectKBest(score_func=chi2, k=100) \n",
    "# features = test.fit_transform(X_train , Y_train )\n",
    "\n",
    "# X_train= features \n",
    "param_grid = {'C': [0.1, 1, 10, 100, 1000], \n",
    "\n",
    "              'gamma': [1, 0.1, 0.01, 0.001, 0.0001],\n",
    "\n",
    "              'kernel': ['rbf']} \n",
    " \n",
    "st = SVR(kernel='rbf')\n",
    "grid = GridSearchCV(st , param_grid)\n",
    "\n",
    "grid.fit(X_train, Y_train)\n",
    "grid.best_params_"
   ]
  },
  {
   "cell_type": "code",
   "execution_count": 7,
   "id": "a0e16c78",
   "metadata": {},
   "outputs": [
    {
     "name": "stdout",
     "output_type": "stream",
     "text": [
      "[ 5.05611528  3.7349197   4.3999146  ... -0.52614467 -1.06416193\n",
      " -1.67881445]\n"
     ]
    }
   ],
   "source": [
    "# print(Y)"
   ]
  },
  {
   "cell_type": "code",
   "execution_count": 8,
   "id": "c7dd5c8c",
   "metadata": {},
   "outputs": [
    {
     "name": "stdout",
     "output_type": "stream",
     "text": [
      "[0.77656756 0.77256237 0.74710822 0.7648565  0.70203501 0.75663285\n",
      " 0.7911984  0.78663659 0.65712115 0.7780636 ]\n",
      "0.7532782249651092\n"
     ]
    }
   ],
   "source": [
    "svr = SVR(C = 1000, gamma = 0.01, kernel = 'rbf')\n",
    "svr.fit(X_train, Y_train)\n",
    "kfold = KFold(n_splits=10, random_state=None, shuffle=False)\n",
    "results = cross_val_score(svr, X_train ,Y_train , cv=kfold)\n",
    "print(results)\n",
    "print(results.mean())"
   ]
  },
  {
   "cell_type": "code",
   "execution_count": 9,
   "id": "58b2cf1c",
   "metadata": {},
   "outputs": [
    {
     "name": "stdout",
     "output_type": "stream",
     "text": [
      "0.7033513016536574\n",
      "0.2824841321849535\n",
      "0.28229961051463365\n"
     ]
    }
   ],
   "source": [
    "# from sklearn.datasets import make_regression\n",
    "# from sklearn import metrics as ms\n",
    "# import math\n",
    "# Y_prdict = svr.predict(X_test)\n",
    "# # svr.score(Y_prdict, Y_test)\n",
    "\n",
    "# print(Y_test.shape)\n",
    "# print(Y_prdict.shape)\n",
    "# print(accuracy_score(Y_test , Y_prdict))\n",
    "# h=0\n",
    "# f=0\n",
    "# for i in range(len(Y_test)):\n",
    "#     f+=float(Y_test[i] )\n",
    "# f= f / len(Y_test)\n",
    "# for i in range(len(Y_test)):\n",
    "#     h+=abs(float(Y_test[i] )- float(Y_prdict[i] ))\n",
    "# print (abs((h / len(Y_test)) / f ))\n",
    "from sklearn.metrics import explained_variance_score\n",
    "from sklearn.metrics import mean_squared_error\n",
    "from sklearn.metrics import mean_absolute_error\n",
    "Y_prdict = svr.predict(X_test)\n",
    "print(explained_variance_score(Y_test, Y_prdict))\n",
    "print(mean_squared_error(Y_test, Y_prdict))\n",
    "print(mean_absolute_error(Y_test,Y_prdict))"
   ]
  },
  {
   "cell_type": "code",
   "execution_count": 34,
   "id": "402a4ed4",
   "metadata": {},
   "outputs": [
    {
     "ename": "ModuleNotFoundError",
     "evalue": "No module named 'mlxtend'",
     "output_type": "error",
     "traceback": [
      "\u001b[1;31m---------------------------------------------------------------------------\u001b[0m",
      "\u001b[1;31mModuleNotFoundError\u001b[0m                       Traceback (most recent call last)",
      "\u001b[1;32m~\\AppData\\Local\\Temp/ipykernel_10144/2132890791.py\u001b[0m in \u001b[0;36m<module>\u001b[1;34m\u001b[0m\n\u001b[0;32m      1\u001b[0m \u001b[1;32mimport\u001b[0m \u001b[0mmatplotlib\u001b[0m\u001b[1;33m.\u001b[0m\u001b[0mpyplot\u001b[0m \u001b[1;32mas\u001b[0m \u001b[0mplt\u001b[0m\u001b[1;33m\u001b[0m\u001b[1;33m\u001b[0m\u001b[0m\n\u001b[0;32m      2\u001b[0m \u001b[1;32mfrom\u001b[0m \u001b[0msklearn\u001b[0m\u001b[1;33m.\u001b[0m\u001b[0mmodel_selection\u001b[0m \u001b[1;32mimport\u001b[0m \u001b[0mlearning_curve\u001b[0m\u001b[1;33m\u001b[0m\u001b[1;33m\u001b[0m\u001b[0m\n\u001b[1;32m----> 3\u001b[1;33m \u001b[1;32mfrom\u001b[0m \u001b[0mmlxtend\u001b[0m\u001b[1;33m.\u001b[0m\u001b[0mplotting\u001b[0m \u001b[1;32mimport\u001b[0m \u001b[0mplot_learning_curves\u001b[0m\u001b[1;33m\u001b[0m\u001b[1;33m\u001b[0m\u001b[0m\n\u001b[0m\u001b[0;32m      4\u001b[0m \u001b[0mplot_learning_curves\u001b[0m\u001b[1;33m(\u001b[0m\u001b[0mX_train\u001b[0m \u001b[1;33m,\u001b[0m \u001b[0mY_train\u001b[0m \u001b[1;33m,\u001b[0m \u001b[0mX_test\u001b[0m \u001b[1;33m,\u001b[0m \u001b[0mY_test\u001b[0m \u001b[1;33m,\u001b[0m\u001b[0mSVR\u001b[0m\u001b[1;33m(\u001b[0m\u001b[1;33m)\u001b[0m\u001b[1;33m)\u001b[0m\u001b[1;33m\u001b[0m\u001b[1;33m\u001b[0m\u001b[0m\n\u001b[0;32m      5\u001b[0m \u001b[0mplt\u001b[0m\u001b[1;33m.\u001b[0m\u001b[0mshow\u001b[0m\u001b[1;33m(\u001b[0m\u001b[1;33m)\u001b[0m\u001b[1;33m\u001b[0m\u001b[1;33m\u001b[0m\u001b[0m\n",
      "\u001b[1;31mModuleNotFoundError\u001b[0m: No module named 'mlxtend'"
     ]
    }
   ],
   "source": [
    "import matplotlib.pyplot as plt\n",
    "from sklearn.model_selection import learning_curve\n",
    "from mlxtend.plotting import plot_learning_curves\n",
    "plot_learning_curves(X_train , Y_train , X_test , Y_test ,SVR())\n",
    "plt.show()"
   ]
  },
  {
   "cell_type": "code",
   "execution_count": null,
   "id": "47fa2196",
   "metadata": {},
   "outputs": [],
   "source": [
    "# svr = SVR(C = 1000, gamma = 0.0001, kernel = 'linear')\n",
    "# svr.fit(X_train, Y_train)\n",
    "# kfold = KFold(n_splits=10, random_state= 7 , shuffle=True)\n",
    "# results = cross_val_score(svr, X_train ,Y_train , cv=kfold)\n",
    "# print(results)\n",
    "# print(results.mean())\n",
    "# Y_prdict = svr.predict(X_test)\n",
    "# print(explained_variance_score(Y_test, Y_prdict))\n",
    "# print(mean_squared_error(Y_test, Y_prdict))"
   ]
  },
  {
   "cell_type": "code",
   "execution_count": 10,
   "id": "53fb8215",
   "metadata": {},
   "outputs": [],
   "source": [
    "from sklearn.ensemble import AdaBoostRegressor\n",
    "regr = AdaBoostRegressor( n_estimators=100,learning_rate=0.1)\n",
    "regr.fit(X_train, Y_train)\n",
    "kfold = KFold(n_splits=10, random_state= 7 , shuffle=True)\n",
    "results = cross_val_score(regr, X_train ,Y_train , cv=kfold)"
   ]
  },
  {
   "cell_type": "code",
   "execution_count": 11,
   "id": "b92c5ec8",
   "metadata": {},
   "outputs": [
    {
     "name": "stdout",
     "output_type": "stream",
     "text": [
      "[0.68682091 0.59615197 0.62777435 0.62363489 0.62950639 0.6495994\n",
      " 0.6369937  0.57483947 0.62619203 0.70761224]\n",
      "0.6359125347015504\n",
      "0.7076122364914265\n"
     ]
    }
   ],
   "source": [
    "print(results)\n",
    "print(results.mean())\n",
    "print(results.max())"
   ]
  },
  {
   "cell_type": "code",
   "execution_count": 12,
   "id": "7f8706a4",
   "metadata": {},
   "outputs": [
    {
     "name": "stdout",
     "output_type": "stream",
     "text": [
      "0.6074225103218838\n",
      "0.37560809995079647\n",
      "0.46576706937443\n"
     ]
    }
   ],
   "source": [
    "# Y_prdict = regr.predict(X_test)\n",
    "# # svr.score(Y_prdict, Y_test)\n",
    "# print(Y_test.shape)\n",
    "# print(Y_prdict.shape)\n",
    "# h=0\n",
    "# f=0\n",
    "# for i in range(len(Y_test)):\n",
    "#     f+=float(Y_test[i] )\n",
    "# f= f / len(Y_test)\n",
    "# for i in range(len(Y_test)):\n",
    "#     h+=abs(float(Y_test[i] )- float(Y_prdict[i] ))\n",
    "# print (abs((h / len(Y_test)) / f ))\n",
    "from sklearn.metrics import explained_variance_score\n",
    "Y_prdict = regr.predict(X_test)\n",
    "print(explained_variance_score(Y_test, Y_prdict))\n",
    "print(mean_squared_error(Y_test, Y_prdict))\n",
    "print(mean_absolute_error(Y_test,Y_prdict))"
   ]
  },
  {
   "cell_type": "code",
   "execution_count": null,
   "id": "2a8255d7",
   "metadata": {},
   "outputs": [],
   "source": [
    "\n",
    "plot_learning_curves(X_train , Y_train , X_test , Y_test ,AdaBoostRegressor())\n",
    "plt.show()"
   ]
  },
  {
   "cell_type": "code",
   "execution_count": 13,
   "id": "01a4541e",
   "metadata": {},
   "outputs": [
    {
     "name": "stdout",
     "output_type": "stream",
     "text": [
      "[0.79624562 0.66544446 0.76947952 0.76754091 0.75646034 0.74968107\n",
      " 0.76916337 0.72171924 0.76222281 0.80877009]\n",
      "0.7566727442592892\n",
      "0.8087700924775326\n"
     ]
    }
   ],
   "source": [
    "from sklearn.ensemble import RandomForestRegressor\n",
    "regrr = RandomForestRegressor(n_estimators = 150,max_depth=5)\n",
    "regrr.fit(X_train, Y_train)\n",
    "kfold = KFold(n_splits=10, random_state= 7 , shuffle=True)\n",
    "results = cross_val_score(regrr, X_train ,Y_train , cv=kfold)\n",
    "print(results)\n",
    "print(results.mean())\n",
    "print(results.max())"
   ]
  },
  {
   "cell_type": "code",
   "execution_count": 14,
   "id": "f3faada3",
   "metadata": {},
   "outputs": [
    {
     "name": "stdout",
     "output_type": "stream",
     "text": [
      "0.7347807732183211\n",
      "0.251886071663739\n",
      "0.31720884819078565\n"
     ]
    }
   ],
   "source": [
    "# Y_prdict = regrr.predict(X_test)\n",
    "# # svr.score(Y_prdict, Y_test)\n",
    "# print(Y_test.shape)\n",
    "# print(Y_prdict.shape)\n",
    "# h=0\n",
    "# f=0\n",
    "# for i in range(len(Y_test)):\n",
    "#     f+=float(Y_test[i] )\n",
    "# f= f / len(Y_test)\n",
    "# for i in range(len(Y_test)):\n",
    "#     h+=abs(float(Y_test[i] )- float(Y_prdict[i] ))\n",
    "# print (abs((h / len(Y_test)) / f ))\n",
    "from sklearn.metrics import explained_variance_score\n",
    "Y_prdict = regrr.predict(X_test)\n",
    "print(explained_variance_score(Y_test, Y_prdict))\n",
    "print(mean_squared_error(Y_test, Y_prdict))\n",
    "print(mean_absolute_error(Y_test,Y_prdict))"
   ]
  },
  {
   "cell_type": "code",
   "execution_count": null,
   "id": "b60f7389",
   "metadata": {},
   "outputs": [],
   "source": [
    "plot_learning_curves(X_train , Y_train , X_test , Y_test ,RandomForestRegressor())\n",
    "plt.show()"
   ]
  },
  {
   "cell_type": "code",
   "execution_count": 15,
   "id": "3ec44a41",
   "metadata": {},
   "outputs": [
    {
     "name": "stdout",
     "output_type": "stream",
     "text": [
      "[0.83018019 0.68373189 0.78432989 0.79296868 0.79873427 0.76854522\n",
      " 0.78227523 0.74575456 0.76257532 0.83227157]\n",
      "0.77813668224303\n",
      "0.8322715716955692\n"
     ]
    }
   ],
   "source": [
    "from sklearn.ensemble import BaggingRegressor\n",
    "regrrr = BaggingRegressor(n_estimators=10, random_state=0)\n",
    "regrrr.fit(X_train, Y_train)\n",
    "kfold = KFold(n_splits=10, random_state= 7 , shuffle=True)\n",
    "results = cross_val_score(regrrr, X_train ,Y_train , cv=kfold)\n",
    "print(results)\n",
    "print(results.mean())\n",
    "print(results.max())"
   ]
  },
  {
   "cell_type": "code",
   "execution_count": 16,
   "id": "b15cfbe8",
   "metadata": {},
   "outputs": [
    {
     "name": "stdout",
     "output_type": "stream",
     "text": [
      "0.7744064866607729\n",
      "0.21446339274032614\n",
      "0.24317850190096252\n"
     ]
    }
   ],
   "source": [
    "# Y_prdict = regrrr.predict(X_test)\n",
    "# # svr.score(Y_prdict, Y_test)\n",
    "# print(Y_test.shape)\n",
    "# print(Y_prdict.shape)\n",
    "# h=0\n",
    "# f=0\n",
    "# for i in range(len(Y_test)):\n",
    "#     f+=float(Y_test[i] )\n",
    "# f= f / len(Y_test)\n",
    "# for i in range(len(Y_test)):\n",
    "#     h+=abs(float(Y_test[i] )- float(Y_prdict[i] ))\n",
    "# print (abs((h / len(Y_test)) / f ))\n",
    "from sklearn.metrics import explained_variance_score\n",
    "Y_prdict = regrrr.predict(X_test)\n",
    "print(explained_variance_score(Y_test, Y_prdict))\n",
    "print(mean_squared_error(Y_test, Y_prdict))\n",
    "print(mean_absolute_error(Y_test,Y_prdict))"
   ]
  },
  {
   "cell_type": "code",
   "execution_count": null,
   "id": "528b7f5f",
   "metadata": {},
   "outputs": [],
   "source": [
    "plot_learning_curves(X_train , Y_train , X_test , Y_test ,BaggingRegressor())\n",
    "plt.show()"
   ]
  },
  {
   "cell_type": "code",
   "execution_count": 17,
   "id": "b8eb3e9a",
   "metadata": {},
   "outputs": [
    {
     "name": "stdout",
     "output_type": "stream",
     "text": [
      "[0.7550749  0.5873297  0.70780604 0.74631141 0.75677995 0.72493596\n",
      " 0.75114036 0.67822756 0.72827865 0.75793029]\n",
      "0.7193814830483597\n",
      "0.7579302910390717\n"
     ]
    }
   ],
   "source": [
    "from sklearn.neural_network import MLPRegressor\n",
    "mregr = MLPRegressor(random_state=1, max_iter=2500)\n",
    "mregr.fit(X_train, Y_train)\n",
    "kfold = KFold(n_splits=10, random_state= 7 , shuffle=True)\n",
    "results = cross_val_score(mregr, X_train ,Y_train , cv=kfold)\n",
    "print(results)\n",
    "print(results.mean())\n",
    "print(results.max())\n",
    "#converged problem"
   ]
  },
  {
   "cell_type": "code",
   "execution_count": 18,
   "id": "fc4fbe70",
   "metadata": {},
   "outputs": [
    {
     "name": "stdout",
     "output_type": "stream",
     "text": [
      "0.7037258588113426\n",
      "0.28211379170315165\n",
      "0.33058582498643746\n"
     ]
    }
   ],
   "source": [
    "Y_prdict = mregr.predict(X_test)\n",
    "# # svr.score(Y_prdict, Y_test)\n",
    "# print(Y_test.shape)\n",
    "# print(Y_prdict.shape)\n",
    "# h=0\n",
    "# f=0\n",
    "# for i in range(len(Y_test)):\n",
    "#     f+=float(Y_test[i] )\n",
    "# f= f / len(Y_test)\n",
    "# for i in range(len(Y_test)):\n",
    "#     h+=abs(float(Y_test[i] )- float(Y_prdict[i] ))\n",
    "# print (abs((h / len(Y_test)) / f ))\n",
    "print(explained_variance_score(Y_test, Y_prdict))\n",
    "print(mean_squared_error(Y_test, Y_prdict))\n",
    "print(mean_absolute_error(Y_test,Y_prdict))"
   ]
  },
  {
   "cell_type": "code",
   "execution_count": null,
   "id": "b9c3e3ae",
   "metadata": {},
   "outputs": [],
   "source": [
    "plot_learning_curves(X_train , Y_train , X_test , Y_test ,MLPRegressor())\n",
    "plt.show()"
   ]
  },
  {
   "cell_type": "code",
   "execution_count": 19,
   "id": "3e7a9b14",
   "metadata": {},
   "outputs": [
    {
     "name": "stdout",
     "output_type": "stream",
     "text": [
      "[0.82774485 0.68260253 0.79595751 0.78960087 0.80050764 0.78529379\n",
      " 0.81352409 0.75508876 0.79236678 0.82609723]\n",
      "0.7868784055740816\n",
      "0.8277448532679539\n"
     ]
    }
   ],
   "source": [
    "from sklearn.ensemble import GradientBoostingRegressor\n",
    "Greg = GradientBoostingRegressor(random_state=0)\n",
    "Greg.fit(X_train, Y_train)\n",
    "kfold = KFold(n_splits=10, random_state= 7 , shuffle=True)\n",
    "results = cross_val_score(Greg, X_train ,Y_train , cv=kfold)\n",
    "print(results)\n",
    "print(results.mean())\n",
    "print(results.max())"
   ]
  },
  {
   "cell_type": "code",
   "execution_count": 20,
   "id": "c50859d6",
   "metadata": {},
   "outputs": [
    {
     "name": "stdout",
     "output_type": "stream",
     "text": [
      "0.7805885249976234\n",
      "0.20835665463231343\n",
      "0.2495542677058316\n"
     ]
    }
   ],
   "source": [
    "# Y_prdict = mregr.predict(X_test)\n",
    "# # svr.score(Y_prdict, Y_test)\n",
    "# print(Y_test.shape)\n",
    "# print(Y_prdict.shape)\n",
    "# h=0\n",
    "# f=0\n",
    "# for i in range(len(Y_test)):\n",
    "#     f+=float(Y_test[i] )\n",
    "# f= f / len(Y_test)\n",
    "# for i in range(len(Y_test)):\n",
    "#     h+=abs(float(Y_test[i] )- float(Y_prdict[i] ))\n",
    "# print (abs((h / len(Y_test)) / f ))\n",
    "from sklearn.metrics import explained_variance_score\n",
    "Y_prdict = Greg.predict(X_test)\n",
    "print(explained_variance_score(Y_test, Y_prdict))\n",
    "print(mean_squared_error(Y_test, Y_prdict))\n",
    "print(mean_absolute_error(Y_test,Y_prdict))"
   ]
  },
  {
   "cell_type": "code",
   "execution_count": null,
   "id": "c8a4a3ee",
   "metadata": {},
   "outputs": [],
   "source": [
    "plot_learning_curves(X_train , Y_train , X_test , Y_test ,GradientBoostingRegressor())\n",
    "plt.show()"
   ]
  },
  {
   "cell_type": "code",
   "execution_count": 95,
   "id": "28fc4a72",
   "metadata": {},
   "outputs": [],
   "source": [
    "# import math\n",
    "# for i in Y_test:\n",
    "#     if math.isnan(float(i)):\n",
    "#         print(\"2\")"
   ]
  },
  {
   "cell_type": "code",
   "execution_count": 48,
   "id": "10f48722",
   "metadata": {},
   "outputs": [],
   "source": [
    "# from sklearn.metrics import mean_squared_error\n",
    "# Y_prdict = mregr.predict(X_test)\n",
    "# print(mean_squared_error(Y_test, Y_prdict))\n"
   ]
  },
  {
   "cell_type": "code",
   "execution_count": 49,
   "id": "a2ecb781",
   "metadata": {},
   "outputs": [],
   "source": [
    "# from sklearn.metrics import explained_variance_score\n",
    "# Y_prdict = mregr.predict(X_test)\n",
    "# explained_variance_score(Y_test, Y_prdict)"
   ]
  },
  {
   "cell_type": "code",
   "execution_count": 21,
   "id": "f10104af",
   "metadata": {},
   "outputs": [
    {
     "name": "stdout",
     "output_type": "stream",
     "text": [
      "0.7806235860871974\n",
      "0.7520410725113523\n",
      "0.23558815309147116\n",
      "0.25209342864691464\n"
     ]
    }
   ],
   "source": [
    "from sklearn.linear_model import LinearRegression\n",
    "from sklearn import metrics\n",
    "from sklearn.metrics import explained_variance_score\n",
    "from sklearn.metrics import accuracy_score\n",
    "# X_train, X_test, Y_train, Y_test = train_test_split(X, Y, test_size=0.3)\n",
    "model= LinearRegression(fit_intercept=False)\n",
    "model.fit(X_train, Y_train)\n",
    "kfold = KFold(n_splits=10, random_state= 7 , shuffle=True)\n",
    "results = cross_val_score(model, X_train ,Y_train , cv=kfold)\n",
    "print(results.mean())\n",
    "Y_prdict = model.predict(X_test)\n",
    "print(explained_variance_score(Y_test, Y_prdict))\n",
    "print(mean_squared_error(Y_test, Y_prdict))\n",
    "print(mean_absolute_error(Y_test,Y_prdict))"
   ]
  },
  {
   "cell_type": "code",
   "execution_count": null,
   "id": "63c5834f",
   "metadata": {},
   "outputs": [],
   "source": [
    "plot_learning_curves(X_train , Y_train , X_test , Y_test ,LinearRegression())\n",
    "plt.show()"
   ]
  },
  {
   "cell_type": "code",
   "execution_count": 51,
   "id": "e4efb375",
   "metadata": {},
   "outputs": [],
   "source": [
    "# print(Y_prdict)\n",
    "# print(Y_test)"
   ]
  },
  {
   "cell_type": "code",
   "execution_count": 52,
   "id": "af9b97d4",
   "metadata": {},
   "outputs": [],
   "source": [
    "# h=0\n",
    "# y=0\n",
    "# l=[]\n",
    "# import math\n",
    "# from math import e\n",
    "# for i in range (len(Y_prdict)):\n",
    "#     l.append(((float(Y_prdict[i]) - float(Y_test[i])))** 2 )\n",
    "#     h+=(float(Y_prdict[i]) - float(Y_test[i])) ** 2 \n",
    "# h = h / len(Y_prdict)\n",
    "# print(sum(l) / len(Y_prdict))\n",
    "# print(math.floor(h))\n",
    "# print(3.358701929185624 * (e**17))"
   ]
  },
  {
   "cell_type": "code",
   "execution_count": 22,
   "id": "a0cecd75",
   "metadata": {},
   "outputs": [
    {
     "data": {
      "text/plain": [
       "{'n_neighbors': 11}"
      ]
     },
     "execution_count": 22,
     "metadata": {},
     "output_type": "execute_result"
    }
   ],
   "source": [
    "from sklearn.neighbors import KNeighborsRegressor\n",
    "from sklearn.model_selection import GridSearchCV\n",
    "neigh = KNeighborsRegressor()\n",
    "k_range = list(range(1, 50))\n",
    "param_grid = dict(n_neighbors=k_range)\n",
    "grid = GridSearchCV(neigh, param_grid, cv=10)\n",
    "grid.fit(X_train, Y_train)\n",
    "grid.best_params_"
   ]
  },
  {
   "cell_type": "code",
   "execution_count": 24,
   "id": "2815fbac",
   "metadata": {},
   "outputs": [
    {
     "name": "stdout",
     "output_type": "stream",
     "text": [
      "[0.46298747 0.38206429 0.42415959 0.50740878 0.4609267  0.50168612\n",
      " 0.44945403 0.46014584 0.44793702 0.42103512]\n",
      "0.45178049710130874\n",
      "0.5074087831593028\n"
     ]
    }
   ],
   "source": [
    "neigh = KNeighborsRegressor(n_neighbors = 11 , metric='minkowski', p=2) . fit(X_train , Y_train)\n",
    "kfold = KFold(n_splits=10, random_state= 7 , shuffle=True)\n",
    "results = cross_val_score(neigh, X_train ,Y_train , cv=kfold)\n",
    "print(results)\n",
    "print(results.mean())\n",
    "print(results.max())"
   ]
  },
  {
   "cell_type": "code",
   "execution_count": 25,
   "id": "dcabe6f0",
   "metadata": {},
   "outputs": [
    {
     "name": "stdout",
     "output_type": "stream",
     "text": [
      "0.4358527540632673\n",
      "0.5387311213808887\n",
      "0.5403482596830064\n"
     ]
    }
   ],
   "source": [
    "Y_prdict = neigh.predict(X_test)\n",
    "print(explained_variance_score(Y_test, Y_prdict))\n",
    "print(mean_squared_error(Y_test, Y_prdict))\n",
    "print(mean_absolute_error(Y_test,Y_prdict))"
   ]
  },
  {
   "cell_type": "code",
   "execution_count": null,
   "id": "69c79bc0",
   "metadata": {},
   "outputs": [],
   "source": [
    "plot_learning_curves(X_train , Y_train , X_test , Y_test ,KNeighborsRegressor())\n",
    "plt.show()"
   ]
  },
  {
   "cell_type": "code",
   "execution_count": 59,
   "id": "59083338",
   "metadata": {},
   "outputs": [
    {
     "name": "stdout",
     "output_type": "stream",
     "text": [
      "[[-1.96747716 -2.07973745 -1.15449527 ... -1.93716521  0.88260239\n",
      "   1.45535219]\n",
      " [-0.46998324 -0.99030837  0.60952026 ...  0.6695951   0.82947461\n",
      "   1.16783084]\n",
      " [-1.77140567 -1.15019684  0.4505121  ... -0.60808501 -1.73886976\n",
      "  -1.20119633]\n",
      " ...\n",
      " [ 0.19814493 -0.69462348  1.12516601 ... -0.03888036  1.58823153\n",
      "   1.60593079]\n",
      " [ 1.82722299 -1.48306072  2.33103394 ... -1.85582481  1.42726889\n",
      "  -0.16628405]\n",
      " [ 0.04076236  0.74681562  0.33003473 ...  0.07487421 -1.27816863\n",
      "  -0.26165441]]\n",
      "[-18.26874437 -36.07513803   4.97184289 ... -51.89820493  17.20628887\n",
      " 130.90658761]\n"
     ]
    }
   ],
   "source": [
    "# print(X)\n",
    "# print(Y)"
   ]
  },
  {
   "cell_type": "code",
   "execution_count": 26,
   "id": "549fa327",
   "metadata": {},
   "outputs": [
    {
     "name": "stdout",
     "output_type": "stream",
     "text": [
      "[0.72708966 0.5215167  0.6232192  0.53712727 0.5598842  0.61178613\n",
      " 0.65625766 0.61225081 0.55758384 0.7013881 ]\n",
      "0.6108103554791658\n",
      "0.7270896630277666\n"
     ]
    }
   ],
   "source": [
    "from sklearn.tree import DecisionTreeRegressor\n",
    "regressordis = DecisionTreeRegressor(random_state=0)\n",
    "kfold = KFold(n_splits=10, random_state= 7 , shuffle=True)\n",
    "results = cross_val_score(regressordis, X_train ,Y_train , cv=kfold)\n",
    "print(results)\n",
    "print(results.mean())\n",
    "print(results.max())"
   ]
  },
  {
   "cell_type": "code",
   "execution_count": 27,
   "id": "e6cafafb",
   "metadata": {},
   "outputs": [
    {
     "name": "stdout",
     "output_type": "stream",
     "text": [
      "0.6053421182694404\n",
      "0.3758003671109117\n",
      "0.2919054513830852\n"
     ]
    }
   ],
   "source": [
    "regressordis.fit(X_train , Y_train)\n",
    "Y_prdict = regressordis.predict(X_test)\n",
    "print(explained_variance_score(Y_test, Y_prdict))\n",
    "print(mean_squared_error(Y_test, Y_prdict))\n",
    "print(mean_absolute_error(Y_test,Y_prdict))"
   ]
  },
  {
   "cell_type": "code",
   "execution_count": null,
   "id": "a91dcccf",
   "metadata": {},
   "outputs": [],
   "source": [
    "plot_learning_curves(X_train , Y_train , X_test , Y_test ,DecisionTreeRegressor())\n",
    "plt.show()"
   ]
  },
  {
   "cell_type": "code",
   "execution_count": null,
   "id": "80eee47c",
   "metadata": {},
   "outputs": [],
   "source": []
  }
 ],
 "metadata": {
  "kernelspec": {
   "display_name": "Python 3 (ipykernel)",
   "language": "python",
   "name": "python3"
  },
  "language_info": {
   "codemirror_mode": {
    "name": "ipython",
    "version": 3
   },
   "file_extension": ".py",
   "mimetype": "text/x-python",
   "name": "python",
   "nbconvert_exporter": "python",
   "pygments_lexer": "ipython3",
   "version": "3.8.8"
  }
 },
 "nbformat": 4,
 "nbformat_minor": 5
}
